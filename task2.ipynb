{
 "cells": [
  {
   "cell_type": "markdown",
   "id": "45a869da",
   "metadata": {},
   "source": [
    "# Task 2 -  Air Pollution Model"
   ]
  },
  {
   "cell_type": "code",
   "execution_count": 1,
   "id": "970809ac",
   "metadata": {},
   "outputs": [],
   "source": [
    "# import libraries\n",
    "import numpy as np\n",
    "import pandas as pd\n",
    "import matplotlib.pyplot as plt\n",
    "import seaborn as sns"
   ]
  },
  {
   "cell_type": "markdown",
   "id": "b54949cb",
   "metadata": {},
   "source": [
    "# Data Preprocessing"
   ]
  },
  {
   "cell_type": "code",
   "execution_count": 2,
   "id": "057f0adc",
   "metadata": {},
   "outputs": [],
   "source": [
    "# load dataset\n",
    "ap_data=pd.read_csv(\"PRSA_data_2010.1.1-2014.12.31.csv\")"
   ]
  },
  {
   "cell_type": "code",
   "execution_count": 3,
   "id": "3f56a2b8",
   "metadata": {},
   "outputs": [
    {
     "data": {
      "text/html": [
       "<div>\n",
       "<style scoped>\n",
       "    .dataframe tbody tr th:only-of-type {\n",
       "        vertical-align: middle;\n",
       "    }\n",
       "\n",
       "    .dataframe tbody tr th {\n",
       "        vertical-align: top;\n",
       "    }\n",
       "\n",
       "    .dataframe thead th {\n",
       "        text-align: right;\n",
       "    }\n",
       "</style>\n",
       "<table border=\"1\" class=\"dataframe\">\n",
       "  <thead>\n",
       "    <tr style=\"text-align: right;\">\n",
       "      <th></th>\n",
       "      <th>No</th>\n",
       "      <th>year</th>\n",
       "      <th>month</th>\n",
       "      <th>day</th>\n",
       "      <th>hour</th>\n",
       "      <th>pm2.5</th>\n",
       "      <th>DEWP</th>\n",
       "      <th>TEMP</th>\n",
       "      <th>PRES</th>\n",
       "      <th>cbwd</th>\n",
       "      <th>Iws</th>\n",
       "      <th>Is</th>\n",
       "      <th>Ir</th>\n",
       "    </tr>\n",
       "  </thead>\n",
       "  <tbody>\n",
       "    <tr>\n",
       "      <th>0</th>\n",
       "      <td>1</td>\n",
       "      <td>2010</td>\n",
       "      <td>1</td>\n",
       "      <td>1</td>\n",
       "      <td>0</td>\n",
       "      <td>NaN</td>\n",
       "      <td>-21</td>\n",
       "      <td>-11.0</td>\n",
       "      <td>1021.0</td>\n",
       "      <td>NW</td>\n",
       "      <td>1.79</td>\n",
       "      <td>0</td>\n",
       "      <td>0</td>\n",
       "    </tr>\n",
       "    <tr>\n",
       "      <th>1</th>\n",
       "      <td>2</td>\n",
       "      <td>2010</td>\n",
       "      <td>1</td>\n",
       "      <td>1</td>\n",
       "      <td>1</td>\n",
       "      <td>NaN</td>\n",
       "      <td>-21</td>\n",
       "      <td>-12.0</td>\n",
       "      <td>1020.0</td>\n",
       "      <td>NW</td>\n",
       "      <td>4.92</td>\n",
       "      <td>0</td>\n",
       "      <td>0</td>\n",
       "    </tr>\n",
       "    <tr>\n",
       "      <th>2</th>\n",
       "      <td>3</td>\n",
       "      <td>2010</td>\n",
       "      <td>1</td>\n",
       "      <td>1</td>\n",
       "      <td>2</td>\n",
       "      <td>NaN</td>\n",
       "      <td>-21</td>\n",
       "      <td>-11.0</td>\n",
       "      <td>1019.0</td>\n",
       "      <td>NW</td>\n",
       "      <td>6.71</td>\n",
       "      <td>0</td>\n",
       "      <td>0</td>\n",
       "    </tr>\n",
       "    <tr>\n",
       "      <th>3</th>\n",
       "      <td>4</td>\n",
       "      <td>2010</td>\n",
       "      <td>1</td>\n",
       "      <td>1</td>\n",
       "      <td>3</td>\n",
       "      <td>NaN</td>\n",
       "      <td>-21</td>\n",
       "      <td>-14.0</td>\n",
       "      <td>1019.0</td>\n",
       "      <td>NW</td>\n",
       "      <td>9.84</td>\n",
       "      <td>0</td>\n",
       "      <td>0</td>\n",
       "    </tr>\n",
       "    <tr>\n",
       "      <th>4</th>\n",
       "      <td>5</td>\n",
       "      <td>2010</td>\n",
       "      <td>1</td>\n",
       "      <td>1</td>\n",
       "      <td>4</td>\n",
       "      <td>NaN</td>\n",
       "      <td>-20</td>\n",
       "      <td>-12.0</td>\n",
       "      <td>1018.0</td>\n",
       "      <td>NW</td>\n",
       "      <td>12.97</td>\n",
       "      <td>0</td>\n",
       "      <td>0</td>\n",
       "    </tr>\n",
       "    <tr>\n",
       "      <th>...</th>\n",
       "      <td>...</td>\n",
       "      <td>...</td>\n",
       "      <td>...</td>\n",
       "      <td>...</td>\n",
       "      <td>...</td>\n",
       "      <td>...</td>\n",
       "      <td>...</td>\n",
       "      <td>...</td>\n",
       "      <td>...</td>\n",
       "      <td>...</td>\n",
       "      <td>...</td>\n",
       "      <td>...</td>\n",
       "      <td>...</td>\n",
       "    </tr>\n",
       "    <tr>\n",
       "      <th>43819</th>\n",
       "      <td>43820</td>\n",
       "      <td>2014</td>\n",
       "      <td>12</td>\n",
       "      <td>31</td>\n",
       "      <td>19</td>\n",
       "      <td>8.0</td>\n",
       "      <td>-23</td>\n",
       "      <td>-2.0</td>\n",
       "      <td>1034.0</td>\n",
       "      <td>NW</td>\n",
       "      <td>231.97</td>\n",
       "      <td>0</td>\n",
       "      <td>0</td>\n",
       "    </tr>\n",
       "    <tr>\n",
       "      <th>43820</th>\n",
       "      <td>43821</td>\n",
       "      <td>2014</td>\n",
       "      <td>12</td>\n",
       "      <td>31</td>\n",
       "      <td>20</td>\n",
       "      <td>10.0</td>\n",
       "      <td>-22</td>\n",
       "      <td>-3.0</td>\n",
       "      <td>1034.0</td>\n",
       "      <td>NW</td>\n",
       "      <td>237.78</td>\n",
       "      <td>0</td>\n",
       "      <td>0</td>\n",
       "    </tr>\n",
       "    <tr>\n",
       "      <th>43821</th>\n",
       "      <td>43822</td>\n",
       "      <td>2014</td>\n",
       "      <td>12</td>\n",
       "      <td>31</td>\n",
       "      <td>21</td>\n",
       "      <td>10.0</td>\n",
       "      <td>-22</td>\n",
       "      <td>-3.0</td>\n",
       "      <td>1034.0</td>\n",
       "      <td>NW</td>\n",
       "      <td>242.70</td>\n",
       "      <td>0</td>\n",
       "      <td>0</td>\n",
       "    </tr>\n",
       "    <tr>\n",
       "      <th>43822</th>\n",
       "      <td>43823</td>\n",
       "      <td>2014</td>\n",
       "      <td>12</td>\n",
       "      <td>31</td>\n",
       "      <td>22</td>\n",
       "      <td>8.0</td>\n",
       "      <td>-22</td>\n",
       "      <td>-4.0</td>\n",
       "      <td>1034.0</td>\n",
       "      <td>NW</td>\n",
       "      <td>246.72</td>\n",
       "      <td>0</td>\n",
       "      <td>0</td>\n",
       "    </tr>\n",
       "    <tr>\n",
       "      <th>43823</th>\n",
       "      <td>43824</td>\n",
       "      <td>2014</td>\n",
       "      <td>12</td>\n",
       "      <td>31</td>\n",
       "      <td>23</td>\n",
       "      <td>12.0</td>\n",
       "      <td>-21</td>\n",
       "      <td>-3.0</td>\n",
       "      <td>1034.0</td>\n",
       "      <td>NW</td>\n",
       "      <td>249.85</td>\n",
       "      <td>0</td>\n",
       "      <td>0</td>\n",
       "    </tr>\n",
       "  </tbody>\n",
       "</table>\n",
       "<p>43824 rows × 13 columns</p>\n",
       "</div>"
      ],
      "text/plain": [
       "          No  year  month  day  hour  pm2.5  DEWP  TEMP    PRES cbwd     Iws  \\\n",
       "0          1  2010      1    1     0    NaN   -21 -11.0  1021.0   NW    1.79   \n",
       "1          2  2010      1    1     1    NaN   -21 -12.0  1020.0   NW    4.92   \n",
       "2          3  2010      1    1     2    NaN   -21 -11.0  1019.0   NW    6.71   \n",
       "3          4  2010      1    1     3    NaN   -21 -14.0  1019.0   NW    9.84   \n",
       "4          5  2010      1    1     4    NaN   -20 -12.0  1018.0   NW   12.97   \n",
       "...      ...   ...    ...  ...   ...    ...   ...   ...     ...  ...     ...   \n",
       "43819  43820  2014     12   31    19    8.0   -23  -2.0  1034.0   NW  231.97   \n",
       "43820  43821  2014     12   31    20   10.0   -22  -3.0  1034.0   NW  237.78   \n",
       "43821  43822  2014     12   31    21   10.0   -22  -3.0  1034.0   NW  242.70   \n",
       "43822  43823  2014     12   31    22    8.0   -22  -4.0  1034.0   NW  246.72   \n",
       "43823  43824  2014     12   31    23   12.0   -21  -3.0  1034.0   NW  249.85   \n",
       "\n",
       "       Is  Ir  \n",
       "0       0   0  \n",
       "1       0   0  \n",
       "2       0   0  \n",
       "3       0   0  \n",
       "4       0   0  \n",
       "...    ..  ..  \n",
       "43819   0   0  \n",
       "43820   0   0  \n",
       "43821   0   0  \n",
       "43822   0   0  \n",
       "43823   0   0  \n",
       "\n",
       "[43824 rows x 13 columns]"
      ]
     },
     "execution_count": 3,
     "metadata": {},
     "output_type": "execute_result"
    }
   ],
   "source": [
    "ap_data"
   ]
  },
  {
   "cell_type": "code",
   "execution_count": 4,
   "id": "256f5ec1",
   "metadata": {},
   "outputs": [
    {
     "data": {
      "text/html": [
       "<div>\n",
       "<style scoped>\n",
       "    .dataframe tbody tr th:only-of-type {\n",
       "        vertical-align: middle;\n",
       "    }\n",
       "\n",
       "    .dataframe tbody tr th {\n",
       "        vertical-align: top;\n",
       "    }\n",
       "\n",
       "    .dataframe thead th {\n",
       "        text-align: right;\n",
       "    }\n",
       "</style>\n",
       "<table border=\"1\" class=\"dataframe\">\n",
       "  <thead>\n",
       "    <tr style=\"text-align: right;\">\n",
       "      <th></th>\n",
       "      <th>No</th>\n",
       "      <th>year</th>\n",
       "      <th>month</th>\n",
       "      <th>day</th>\n",
       "      <th>hour</th>\n",
       "      <th>pm2.5</th>\n",
       "      <th>DEWP</th>\n",
       "      <th>TEMP</th>\n",
       "      <th>PRES</th>\n",
       "      <th>cbwd</th>\n",
       "      <th>Iws</th>\n",
       "      <th>Is</th>\n",
       "      <th>Ir</th>\n",
       "    </tr>\n",
       "  </thead>\n",
       "  <tbody>\n",
       "    <tr>\n",
       "      <th>0</th>\n",
       "      <td>1</td>\n",
       "      <td>2010</td>\n",
       "      <td>1</td>\n",
       "      <td>1</td>\n",
       "      <td>0</td>\n",
       "      <td>NaN</td>\n",
       "      <td>-21</td>\n",
       "      <td>-11.0</td>\n",
       "      <td>1021.0</td>\n",
       "      <td>NW</td>\n",
       "      <td>1.79</td>\n",
       "      <td>0</td>\n",
       "      <td>0</td>\n",
       "    </tr>\n",
       "    <tr>\n",
       "      <th>1</th>\n",
       "      <td>2</td>\n",
       "      <td>2010</td>\n",
       "      <td>1</td>\n",
       "      <td>1</td>\n",
       "      <td>1</td>\n",
       "      <td>NaN</td>\n",
       "      <td>-21</td>\n",
       "      <td>-12.0</td>\n",
       "      <td>1020.0</td>\n",
       "      <td>NW</td>\n",
       "      <td>4.92</td>\n",
       "      <td>0</td>\n",
       "      <td>0</td>\n",
       "    </tr>\n",
       "    <tr>\n",
       "      <th>2</th>\n",
       "      <td>3</td>\n",
       "      <td>2010</td>\n",
       "      <td>1</td>\n",
       "      <td>1</td>\n",
       "      <td>2</td>\n",
       "      <td>NaN</td>\n",
       "      <td>-21</td>\n",
       "      <td>-11.0</td>\n",
       "      <td>1019.0</td>\n",
       "      <td>NW</td>\n",
       "      <td>6.71</td>\n",
       "      <td>0</td>\n",
       "      <td>0</td>\n",
       "    </tr>\n",
       "    <tr>\n",
       "      <th>3</th>\n",
       "      <td>4</td>\n",
       "      <td>2010</td>\n",
       "      <td>1</td>\n",
       "      <td>1</td>\n",
       "      <td>3</td>\n",
       "      <td>NaN</td>\n",
       "      <td>-21</td>\n",
       "      <td>-14.0</td>\n",
       "      <td>1019.0</td>\n",
       "      <td>NW</td>\n",
       "      <td>9.84</td>\n",
       "      <td>0</td>\n",
       "      <td>0</td>\n",
       "    </tr>\n",
       "    <tr>\n",
       "      <th>4</th>\n",
       "      <td>5</td>\n",
       "      <td>2010</td>\n",
       "      <td>1</td>\n",
       "      <td>1</td>\n",
       "      <td>4</td>\n",
       "      <td>NaN</td>\n",
       "      <td>-20</td>\n",
       "      <td>-12.0</td>\n",
       "      <td>1018.0</td>\n",
       "      <td>NW</td>\n",
       "      <td>12.97</td>\n",
       "      <td>0</td>\n",
       "      <td>0</td>\n",
       "    </tr>\n",
       "  </tbody>\n",
       "</table>\n",
       "</div>"
      ],
      "text/plain": [
       "   No  year  month  day  hour  pm2.5  DEWP  TEMP    PRES cbwd    Iws  Is  Ir\n",
       "0   1  2010      1    1     0    NaN   -21 -11.0  1021.0   NW   1.79   0   0\n",
       "1   2  2010      1    1     1    NaN   -21 -12.0  1020.0   NW   4.92   0   0\n",
       "2   3  2010      1    1     2    NaN   -21 -11.0  1019.0   NW   6.71   0   0\n",
       "3   4  2010      1    1     3    NaN   -21 -14.0  1019.0   NW   9.84   0   0\n",
       "4   5  2010      1    1     4    NaN   -20 -12.0  1018.0   NW  12.97   0   0"
      ]
     },
     "execution_count": 4,
     "metadata": {},
     "output_type": "execute_result"
    }
   ],
   "source": [
    "ap_data.head()"
   ]
  },
  {
   "cell_type": "code",
   "execution_count": 5,
   "id": "19812d77",
   "metadata": {},
   "outputs": [
    {
     "name": "stdout",
     "output_type": "stream",
     "text": [
      "<class 'pandas.core.frame.DataFrame'>\n",
      "RangeIndex: 43824 entries, 0 to 43823\n",
      "Data columns (total 13 columns):\n",
      " #   Column  Non-Null Count  Dtype  \n",
      "---  ------  --------------  -----  \n",
      " 0   No      43824 non-null  int64  \n",
      " 1   year    43824 non-null  int64  \n",
      " 2   month   43824 non-null  int64  \n",
      " 3   day     43824 non-null  int64  \n",
      " 4   hour    43824 non-null  int64  \n",
      " 5   pm2.5   41757 non-null  float64\n",
      " 6   DEWP    43824 non-null  int64  \n",
      " 7   TEMP    43824 non-null  float64\n",
      " 8   PRES    43824 non-null  float64\n",
      " 9   cbwd    43824 non-null  object \n",
      " 10  Iws     43824 non-null  float64\n",
      " 11  Is      43824 non-null  int64  \n",
      " 12  Ir      43824 non-null  int64  \n",
      "dtypes: float64(4), int64(8), object(1)\n",
      "memory usage: 4.3+ MB\n"
     ]
    }
   ],
   "source": [
    "ap_data.info()"
   ]
  },
  {
   "cell_type": "code",
   "execution_count": 6,
   "id": "48a929e1",
   "metadata": {},
   "outputs": [
    {
     "data": {
      "text/plain": [
       "No          0\n",
       "year        0\n",
       "month       0\n",
       "day         0\n",
       "hour        0\n",
       "pm2.5    2067\n",
       "DEWP        0\n",
       "TEMP        0\n",
       "PRES        0\n",
       "cbwd        0\n",
       "Iws         0\n",
       "Is          0\n",
       "Ir          0\n",
       "dtype: int64"
      ]
     },
     "execution_count": 6,
     "metadata": {},
     "output_type": "execute_result"
    }
   ],
   "source": [
    "ap_data.isnull().sum()"
   ]
  },
  {
   "cell_type": "code",
   "execution_count": 7,
   "id": "401e1618",
   "metadata": {},
   "outputs": [],
   "source": [
    "ap_data['pm2.5'].fillna(ap_data[ \"pm2.5\"].mean(),inplace=True)"
   ]
  },
  {
   "cell_type": "code",
   "execution_count": 8,
   "id": "f778cfab",
   "metadata": {},
   "outputs": [
    {
     "data": {
      "text/plain": [
       "No       0\n",
       "year     0\n",
       "month    0\n",
       "day      0\n",
       "hour     0\n",
       "pm2.5    0\n",
       "DEWP     0\n",
       "TEMP     0\n",
       "PRES     0\n",
       "cbwd     0\n",
       "Iws      0\n",
       "Is       0\n",
       "Ir       0\n",
       "dtype: int64"
      ]
     },
     "execution_count": 8,
     "metadata": {},
     "output_type": "execute_result"
    }
   ],
   "source": [
    "ap_data.isnull().sum()"
   ]
  },
  {
   "cell_type": "code",
   "execution_count": 9,
   "id": "d69f9397",
   "metadata": {},
   "outputs": [],
   "source": [
    "# Encoding categorical variable\n",
    "cat_values=[]\n",
    "cont_values=[]\n",
    "for columns in ap_data.columns:\n",
    "    if ap_data[columns].nunique()<=10:\n",
    "        cat_values.append(columns)\n",
    "    else:\n",
    "        cont_values.append(columns)"
   ]
  },
  {
   "cell_type": "code",
   "execution_count": 10,
   "id": "547cedcf",
   "metadata": {},
   "outputs": [
    {
     "data": {
      "text/plain": [
       "['year', 'cbwd']"
      ]
     },
     "execution_count": 10,
     "metadata": {},
     "output_type": "execute_result"
    }
   ],
   "source": [
    "cat_values"
   ]
  },
  {
   "cell_type": "code",
   "execution_count": 11,
   "id": "0fe718a1",
   "metadata": {},
   "outputs": [
    {
     "data": {
      "text/plain": [
       "['No',\n",
       " 'month',\n",
       " 'day',\n",
       " 'hour',\n",
       " 'pm2.5',\n",
       " 'DEWP',\n",
       " 'TEMP',\n",
       " 'PRES',\n",
       " 'Iws',\n",
       " 'Is',\n",
       " 'Ir']"
      ]
     },
     "execution_count": 11,
     "metadata": {},
     "output_type": "execute_result"
    }
   ],
   "source": [
    "cont_values"
   ]
  },
  {
   "cell_type": "code",
   "execution_count": 12,
   "id": "087b5dbb",
   "metadata": {},
   "outputs": [
    {
     "data": {
      "text/plain": [
       "array(['NW', 'cv', 'NE', 'SE'], dtype=object)"
      ]
     },
     "execution_count": 12,
     "metadata": {},
     "output_type": "execute_result"
    }
   ],
   "source": [
    "ap_data['cbwd'].unique()"
   ]
  },
  {
   "cell_type": "code",
   "execution_count": 13,
   "id": "44b5722c",
   "metadata": {},
   "outputs": [],
   "source": [
    "ap_data1=pd.get_dummies(ap_data,columns=cat_values,drop_first=True)"
   ]
  },
  {
   "cell_type": "code",
   "execution_count": 14,
   "id": "9e5ac3b4",
   "metadata": {},
   "outputs": [
    {
     "data": {
      "text/html": [
       "<div>\n",
       "<style scoped>\n",
       "    .dataframe tbody tr th:only-of-type {\n",
       "        vertical-align: middle;\n",
       "    }\n",
       "\n",
       "    .dataframe tbody tr th {\n",
       "        vertical-align: top;\n",
       "    }\n",
       "\n",
       "    .dataframe thead th {\n",
       "        text-align: right;\n",
       "    }\n",
       "</style>\n",
       "<table border=\"1\" class=\"dataframe\">\n",
       "  <thead>\n",
       "    <tr style=\"text-align: right;\">\n",
       "      <th></th>\n",
       "      <th>No</th>\n",
       "      <th>month</th>\n",
       "      <th>day</th>\n",
       "      <th>hour</th>\n",
       "      <th>pm2.5</th>\n",
       "      <th>DEWP</th>\n",
       "      <th>TEMP</th>\n",
       "      <th>PRES</th>\n",
       "      <th>Iws</th>\n",
       "      <th>Is</th>\n",
       "      <th>Ir</th>\n",
       "      <th>year_2011</th>\n",
       "      <th>year_2012</th>\n",
       "      <th>year_2013</th>\n",
       "      <th>year_2014</th>\n",
       "      <th>cbwd_NW</th>\n",
       "      <th>cbwd_SE</th>\n",
       "      <th>cbwd_cv</th>\n",
       "    </tr>\n",
       "  </thead>\n",
       "  <tbody>\n",
       "    <tr>\n",
       "      <th>0</th>\n",
       "      <td>1</td>\n",
       "      <td>1</td>\n",
       "      <td>1</td>\n",
       "      <td>0</td>\n",
       "      <td>98.613215</td>\n",
       "      <td>-21</td>\n",
       "      <td>-11.0</td>\n",
       "      <td>1021.0</td>\n",
       "      <td>1.79</td>\n",
       "      <td>0</td>\n",
       "      <td>0</td>\n",
       "      <td>0</td>\n",
       "      <td>0</td>\n",
       "      <td>0</td>\n",
       "      <td>0</td>\n",
       "      <td>1</td>\n",
       "      <td>0</td>\n",
       "      <td>0</td>\n",
       "    </tr>\n",
       "    <tr>\n",
       "      <th>1</th>\n",
       "      <td>2</td>\n",
       "      <td>1</td>\n",
       "      <td>1</td>\n",
       "      <td>1</td>\n",
       "      <td>98.613215</td>\n",
       "      <td>-21</td>\n",
       "      <td>-12.0</td>\n",
       "      <td>1020.0</td>\n",
       "      <td>4.92</td>\n",
       "      <td>0</td>\n",
       "      <td>0</td>\n",
       "      <td>0</td>\n",
       "      <td>0</td>\n",
       "      <td>0</td>\n",
       "      <td>0</td>\n",
       "      <td>1</td>\n",
       "      <td>0</td>\n",
       "      <td>0</td>\n",
       "    </tr>\n",
       "    <tr>\n",
       "      <th>2</th>\n",
       "      <td>3</td>\n",
       "      <td>1</td>\n",
       "      <td>1</td>\n",
       "      <td>2</td>\n",
       "      <td>98.613215</td>\n",
       "      <td>-21</td>\n",
       "      <td>-11.0</td>\n",
       "      <td>1019.0</td>\n",
       "      <td>6.71</td>\n",
       "      <td>0</td>\n",
       "      <td>0</td>\n",
       "      <td>0</td>\n",
       "      <td>0</td>\n",
       "      <td>0</td>\n",
       "      <td>0</td>\n",
       "      <td>1</td>\n",
       "      <td>0</td>\n",
       "      <td>0</td>\n",
       "    </tr>\n",
       "    <tr>\n",
       "      <th>3</th>\n",
       "      <td>4</td>\n",
       "      <td>1</td>\n",
       "      <td>1</td>\n",
       "      <td>3</td>\n",
       "      <td>98.613215</td>\n",
       "      <td>-21</td>\n",
       "      <td>-14.0</td>\n",
       "      <td>1019.0</td>\n",
       "      <td>9.84</td>\n",
       "      <td>0</td>\n",
       "      <td>0</td>\n",
       "      <td>0</td>\n",
       "      <td>0</td>\n",
       "      <td>0</td>\n",
       "      <td>0</td>\n",
       "      <td>1</td>\n",
       "      <td>0</td>\n",
       "      <td>0</td>\n",
       "    </tr>\n",
       "    <tr>\n",
       "      <th>4</th>\n",
       "      <td>5</td>\n",
       "      <td>1</td>\n",
       "      <td>1</td>\n",
       "      <td>4</td>\n",
       "      <td>98.613215</td>\n",
       "      <td>-20</td>\n",
       "      <td>-12.0</td>\n",
       "      <td>1018.0</td>\n",
       "      <td>12.97</td>\n",
       "      <td>0</td>\n",
       "      <td>0</td>\n",
       "      <td>0</td>\n",
       "      <td>0</td>\n",
       "      <td>0</td>\n",
       "      <td>0</td>\n",
       "      <td>1</td>\n",
       "      <td>0</td>\n",
       "      <td>0</td>\n",
       "    </tr>\n",
       "  </tbody>\n",
       "</table>\n",
       "</div>"
      ],
      "text/plain": [
       "   No  month  day  hour      pm2.5  DEWP  TEMP    PRES    Iws  Is  Ir  \\\n",
       "0   1      1    1     0  98.613215   -21 -11.0  1021.0   1.79   0   0   \n",
       "1   2      1    1     1  98.613215   -21 -12.0  1020.0   4.92   0   0   \n",
       "2   3      1    1     2  98.613215   -21 -11.0  1019.0   6.71   0   0   \n",
       "3   4      1    1     3  98.613215   -21 -14.0  1019.0   9.84   0   0   \n",
       "4   5      1    1     4  98.613215   -20 -12.0  1018.0  12.97   0   0   \n",
       "\n",
       "   year_2011  year_2012  year_2013  year_2014  cbwd_NW  cbwd_SE  cbwd_cv  \n",
       "0          0          0          0          0        1        0        0  \n",
       "1          0          0          0          0        1        0        0  \n",
       "2          0          0          0          0        1        0        0  \n",
       "3          0          0          0          0        1        0        0  \n",
       "4          0          0          0          0        1        0        0  "
      ]
     },
     "execution_count": 14,
     "metadata": {},
     "output_type": "execute_result"
    }
   ],
   "source": [
    "ap_data1.head()"
   ]
  },
  {
   "cell_type": "code",
   "execution_count": 15,
   "id": "9ae91d64",
   "metadata": {},
   "outputs": [],
   "source": [
    "# scaling numerical variables\n",
    "from sklearn.preprocessing import StandardScaler\n",
    "ss=StandardScaler()\n",
    "ap_data1[cont_values]=ss.fit_transform(ap_data1[cont_values])"
   ]
  },
  {
   "cell_type": "markdown",
   "id": "aa525aa0",
   "metadata": {},
   "source": [
    "# EDA"
   ]
  },
  {
   "cell_type": "code",
   "execution_count": 16,
   "id": "74ce81fd",
   "metadata": {},
   "outputs": [
    {
     "data": {
      "text/plain": [
       "Text(0, 0.5, 'counts')"
      ]
     },
     "execution_count": 16,
     "metadata": {},
     "output_type": "execute_result"
    },
    {
     "data": {
      "image/png": "[encoded data removed]",
      "text/plain": [
       "<Figure size 432x288 with 1 Axes>"
      ]
     },
     "metadata": {
      "needs_background": "light"
     },
     "output_type": "display_data"
    }
   ],
   "source": [
    "ap_data['month'].value_counts().plot.bar()\n",
    "plt.xlabel('month')\n",
    "plt.ylabel('counts')"
   ]
  },
  {
   "cell_type": "code",
   "execution_count": 17,
   "id": "b06b5617",
   "metadata": {},
   "outputs": [
    {
     "data": {
      "text/plain": [
       "<AxesSubplot:xlabel='pm2.5', ylabel='count'>"
      ]
     },
     "execution_count": 17,
     "metadata": {},
     "output_type": "execute_result"
    },
    {
     "data": {
      "image/png": "[encoded data removed]",
      "text/plain": [
       "<Figure size 432x288 with 1 Axes>"
      ]
     },
     "metadata": {
      "needs_background": "light"
     },
     "output_type": "display_data"
    }
   ],
   "source": [
    "sns.countplot(x=ap_data['pm2.5'],data=ap_data)"
   ]
  },
  {
   "cell_type": "code",
   "execution_count": 18,
   "id": "dbb8507a",
   "metadata": {},
   "outputs": [
    {
     "data": {
      "text/plain": [
       "<AxesSubplot:xlabel='cbwd', ylabel='Count'>"
      ]
     },
     "execution_count": 18,
     "metadata": {},
     "output_type": "execute_result"
    },
    {
     "data": {
      "image/png": "[encoded data removed]",
      "text/plain": [
       "<Figure size 432x288 with 1 Axes>"
      ]
     },
     "metadata": {
      "needs_background": "light"
     },
     "output_type": "display_data"
    }
   ],
   "source": [
    "sns.histplot(data=ap_data['cbwd'])"
   ]
  },
  {
   "cell_type": "code",
   "execution_count": 19,
   "id": "d6b67cb3",
   "metadata": {},
   "outputs": [
    {
     "data": {
      "text/plain": [
       "<matplotlib.collections.PathCollection at 0x1bfd09ab370>"
      ]
     },
     "execution_count": 19,
     "metadata": {},
     "output_type": "execute_result"
    },
    {
     "data": {
      "image/png": "[encoded data removed]",
      "text/plain": [
       "<Figure size 432x288 with 1 Axes>"
      ]
     },
     "metadata": {
      "needs_background": "light"
     },
     "output_type": "display_data"
    }
   ],
   "source": [
    "plt.scatter(x=ap_data['TEMP'],y=ap_data['month'])"
   ]
  },
  {
   "cell_type": "code",
   "execution_count": 20,
   "id": "90765935",
   "metadata": {},
   "outputs": [
    {
     "data": {
      "text/plain": [
       "<matplotlib.collections.PathCollection at 0x1bfd0a0ae50>"
      ]
     },
     "execution_count": 20,
     "metadata": {},
     "output_type": "execute_result"
    },
    {
     "data": {
      "image/png": "[encoded data removed]",
      "text/plain": [
       "<Figure size 864x864 with 1 Axes>"
      ]
     },
     "metadata": {
      "needs_background": "light"
     },
     "output_type": "display_data"
    }
   ],
   "source": [
    "plt.figure(figsize=(12,12))\n",
    "plt.scatter(x=ap_data['TEMP'],y=ap_data['PRES'],marker='s')"
   ]
  },
  {
   "cell_type": "markdown",
   "id": "9dfbc8f5",
   "metadata": {},
   "source": [
    "# Model implementation"
   ]
  },
  {
   "cell_type": "code",
   "execution_count": 21,
   "id": "34115e73",
   "metadata": {},
   "outputs": [],
   "source": [
    "from sklearn.linear_model import Ridge\n",
    "from sklearn.ensemble import RandomForestRegressor"
   ]
  },
  {
   "cell_type": "code",
   "execution_count": 22,
   "id": "81a9800a",
   "metadata": {},
   "outputs": [],
   "source": [
    "X=ap_data1.drop('pm2.5',axis=1)\n",
    "Y=ap_data1['pm2.5']"
   ]
  },
  {
   "cell_type": "code",
   "execution_count": 23,
   "id": "16ee65b6",
   "metadata": {},
   "outputs": [],
   "source": [
    "from sklearn.model_selection import train_test_split\n",
    "X_train,X_test,Y_train,Y_test = train_test_split(X,Y,test_size=0.2,random_state=1)"
   ]
  },
  {
   "cell_type": "code",
   "execution_count": 24,
   "id": "569cde5b",
   "metadata": {},
   "outputs": [
    {
     "data": {
      "text/html": [
       "<div>\n",
       "<style scoped>\n",
       "    .dataframe tbody tr th:only-of-type {\n",
       "        vertical-align: middle;\n",
       "    }\n",
       "\n",
       "    .dataframe tbody tr th {\n",
       "        vertical-align: top;\n",
       "    }\n",
       "\n",
       "    .dataframe thead th {\n",
       "        text-align: right;\n",
       "    }\n",
       "</style>\n",
       "<table border=\"1\" class=\"dataframe\">\n",
       "  <thead>\n",
       "    <tr style=\"text-align: right;\">\n",
       "      <th></th>\n",
       "      <th>No</th>\n",
       "      <th>month</th>\n",
       "      <th>day</th>\n",
       "      <th>hour</th>\n",
       "      <th>DEWP</th>\n",
       "      <th>TEMP</th>\n",
       "      <th>PRES</th>\n",
       "      <th>Iws</th>\n",
       "      <th>Is</th>\n",
       "      <th>Ir</th>\n",
       "      <th>year_2011</th>\n",
       "      <th>year_2012</th>\n",
       "      <th>year_2013</th>\n",
       "      <th>year_2014</th>\n",
       "      <th>cbwd_NW</th>\n",
       "      <th>cbwd_SE</th>\n",
       "      <th>cbwd_cv</th>\n",
       "    </tr>\n",
       "  </thead>\n",
       "  <tbody>\n",
       "    <tr>\n",
       "      <th>11652</th>\n",
       "      <td>-0.810970</td>\n",
       "      <td>-0.441796</td>\n",
       "      <td>-1.673744</td>\n",
       "      <td>0.072232</td>\n",
       "      <td>-0.264475</td>\n",
       "      <td>1.028938</td>\n",
       "      <td>-0.530517</td>\n",
       "      <td>3.857241</td>\n",
       "      <td>-0.069353</td>\n",
       "      <td>-0.137667</td>\n",
       "      <td>1</td>\n",
       "      <td>0</td>\n",
       "      <td>0</td>\n",
       "      <td>0</td>\n",
       "      <td>1</td>\n",
       "      <td>0</td>\n",
       "      <td>0</td>\n",
       "    </tr>\n",
       "    <tr>\n",
       "      <th>16602</th>\n",
       "      <td>-0.419693</td>\n",
       "      <td>1.298074</td>\n",
       "      <td>0.826448</td>\n",
       "      <td>0.939010</td>\n",
       "      <td>-0.888034</td>\n",
       "      <td>-1.020498</td>\n",
       "      <td>1.417172</td>\n",
       "      <td>-0.459890</td>\n",
       "      <td>-0.069353</td>\n",
       "      <td>-0.137667</td>\n",
       "      <td>1</td>\n",
       "      <td>0</td>\n",
       "      <td>0</td>\n",
       "      <td>0</td>\n",
       "      <td>0</td>\n",
       "      <td>1</td>\n",
       "      <td>0</td>\n",
       "    </tr>\n",
       "    <tr>\n",
       "      <th>22761</th>\n",
       "      <td>0.067149</td>\n",
       "      <td>0.428139</td>\n",
       "      <td>-1.105519</td>\n",
       "      <td>-0.361158</td>\n",
       "      <td>1.606202</td>\n",
       "      <td>1.438826</td>\n",
       "      <td>-0.627901</td>\n",
       "      <td>-0.441894</td>\n",
       "      <td>-0.069353</td>\n",
       "      <td>-0.137667</td>\n",
       "      <td>0</td>\n",
       "      <td>1</td>\n",
       "      <td>0</td>\n",
       "      <td>0</td>\n",
       "      <td>0</td>\n",
       "      <td>0</td>\n",
       "      <td>0</td>\n",
       "    </tr>\n",
       "    <tr>\n",
       "      <th>3092</th>\n",
       "      <td>-1.487602</td>\n",
       "      <td>-0.441796</td>\n",
       "      <td>-0.764584</td>\n",
       "      <td>1.227936</td>\n",
       "      <td>-0.610897</td>\n",
       "      <td>0.455096</td>\n",
       "      <td>-0.725286</td>\n",
       "      <td>0.264364</td>\n",
       "      <td>-0.069353</td>\n",
       "      <td>-0.137667</td>\n",
       "      <td>0</td>\n",
       "      <td>0</td>\n",
       "      <td>0</td>\n",
       "      <td>0</td>\n",
       "      <td>1</td>\n",
       "      <td>0</td>\n",
       "      <td>0</td>\n",
       "    </tr>\n",
       "    <tr>\n",
       "      <th>8008</th>\n",
       "      <td>-1.099013</td>\n",
       "      <td>1.298074</td>\n",
       "      <td>1.621963</td>\n",
       "      <td>0.650084</td>\n",
       "      <td>-0.125907</td>\n",
       "      <td>-0.856543</td>\n",
       "      <td>-0.043595</td>\n",
       "      <td>-0.459890</td>\n",
       "      <td>-0.069353</td>\n",
       "      <td>-0.137667</td>\n",
       "      <td>0</td>\n",
       "      <td>0</td>\n",
       "      <td>0</td>\n",
       "      <td>0</td>\n",
       "      <td>0</td>\n",
       "      <td>1</td>\n",
       "      <td>0</td>\n",
       "    </tr>\n",
       "    <tr>\n",
       "      <th>...</th>\n",
       "      <td>...</td>\n",
       "      <td>...</td>\n",
       "      <td>...</td>\n",
       "      <td>...</td>\n",
       "      <td>...</td>\n",
       "      <td>...</td>\n",
       "      <td>...</td>\n",
       "      <td>...</td>\n",
       "      <td>...</td>\n",
       "      <td>...</td>\n",
       "      <td>...</td>\n",
       "      <td>...</td>\n",
       "      <td>...</td>\n",
       "      <td>...</td>\n",
       "      <td>...</td>\n",
       "      <td>...</td>\n",
       "      <td>...</td>\n",
       "    </tr>\n",
       "    <tr>\n",
       "      <th>43723</th>\n",
       "      <td>1.724107</td>\n",
       "      <td>1.588052</td>\n",
       "      <td>1.281028</td>\n",
       "      <td>1.083473</td>\n",
       "      <td>-0.749466</td>\n",
       "      <td>-1.020498</td>\n",
       "      <td>0.930250</td>\n",
       "      <td>-0.424097</td>\n",
       "      <td>-0.069353</td>\n",
       "      <td>-0.137667</td>\n",
       "      <td>0</td>\n",
       "      <td>0</td>\n",
       "      <td>0</td>\n",
       "      <td>1</td>\n",
       "      <td>0</td>\n",
       "      <td>0</td>\n",
       "      <td>1</td>\n",
       "    </tr>\n",
       "    <tr>\n",
       "      <th>32511</th>\n",
       "      <td>0.837846</td>\n",
       "      <td>0.718117</td>\n",
       "      <td>0.030932</td>\n",
       "      <td>0.505621</td>\n",
       "      <td>0.636221</td>\n",
       "      <td>1.110916</td>\n",
       "      <td>-0.725286</td>\n",
       "      <td>-0.272128</td>\n",
       "      <td>-0.069353</td>\n",
       "      <td>-0.137667</td>\n",
       "      <td>0</td>\n",
       "      <td>0</td>\n",
       "      <td>1</td>\n",
       "      <td>0</td>\n",
       "      <td>0</td>\n",
       "      <td>1</td>\n",
       "      <td>0</td>\n",
       "    </tr>\n",
       "    <tr>\n",
       "      <th>5192</th>\n",
       "      <td>-1.321606</td>\n",
       "      <td>0.428139</td>\n",
       "      <td>-1.219164</td>\n",
       "      <td>-0.505621</td>\n",
       "      <td>1.259780</td>\n",
       "      <td>1.028938</td>\n",
       "      <td>-1.017439</td>\n",
       "      <td>-0.021778</td>\n",
       "      <td>-0.069353</td>\n",
       "      <td>-0.137667</td>\n",
       "      <td>0</td>\n",
       "      <td>0</td>\n",
       "      <td>0</td>\n",
       "      <td>0</td>\n",
       "      <td>1</td>\n",
       "      <td>0</td>\n",
       "      <td>0</td>\n",
       "    </tr>\n",
       "    <tr>\n",
       "      <th>12172</th>\n",
       "      <td>-0.769866</td>\n",
       "      <td>-0.441796</td>\n",
       "      <td>0.826448</td>\n",
       "      <td>-1.083473</td>\n",
       "      <td>0.220515</td>\n",
       "      <td>0.127186</td>\n",
       "      <td>-0.433132</td>\n",
       "      <td>-0.406101</td>\n",
       "      <td>-0.069353</td>\n",
       "      <td>-0.137667</td>\n",
       "      <td>1</td>\n",
       "      <td>0</td>\n",
       "      <td>0</td>\n",
       "      <td>0</td>\n",
       "      <td>0</td>\n",
       "      <td>1</td>\n",
       "      <td>0</td>\n",
       "    </tr>\n",
       "    <tr>\n",
       "      <th>33003</th>\n",
       "      <td>0.876736</td>\n",
       "      <td>1.008096</td>\n",
       "      <td>-0.991874</td>\n",
       "      <td>-1.227936</td>\n",
       "      <td>0.636221</td>\n",
       "      <td>0.045209</td>\n",
       "      <td>0.345943</td>\n",
       "      <td>-0.459890</td>\n",
       "      <td>-0.069353</td>\n",
       "      <td>-0.137667</td>\n",
       "      <td>0</td>\n",
       "      <td>0</td>\n",
       "      <td>1</td>\n",
       "      <td>0</td>\n",
       "      <td>0</td>\n",
       "      <td>0</td>\n",
       "      <td>0</td>\n",
       "    </tr>\n",
       "  </tbody>\n",
       "</table>\n",
       "<p>35059 rows × 17 columns</p>\n",
       "</div>"
      ],
      "text/plain": [
       "             No     month       day      hour      DEWP      TEMP      PRES  \\\n",
       "11652 -0.810970 -0.441796 -1.673744  0.072232 -0.264475  1.028938 -0.530517   \n",
       "16602 -0.419693  1.298074  0.826448  0.939010 -0.888034 -1.020498  1.417172   \n",
       "22761  0.067149  0.428139 -1.105519 -0.361158  1.606202  1.438826 -0.627901   \n",
       "3092  -1.487602 -0.441796 -0.764584  1.227936 -0.610897  0.455096 -0.725286   \n",
       "8008  -1.099013  1.298074  1.621963  0.650084 -0.125907 -0.856543 -0.043595   \n",
       "...         ...       ...       ...       ...       ...       ...       ...   \n",
       "43723  1.724107  1.588052  1.281028  1.083473 -0.749466 -1.020498  0.930250   \n",
       "32511  0.837846  0.718117  0.030932  0.505621  0.636221  1.110916 -0.725286   \n",
       "5192  -1.321606  0.428139 -1.219164 -0.505621  1.259780  1.028938 -1.017439   \n",
       "12172 -0.769866 -0.441796  0.826448 -1.083473  0.220515  0.127186 -0.433132   \n",
       "33003  0.876736  1.008096 -0.991874 -1.227936  0.636221  0.045209  0.345943   \n",
       "\n",
       "            Iws        Is        Ir  year_2011  year_2012  year_2013  \\\n",
       "11652  3.857241 -0.069353 -0.137667          1          0          0   \n",
       "16602 -0.459890 -0.069353 -0.137667          1          0          0   \n",
       "22761 -0.441894 -0.069353 -0.137667          0          1          0   \n",
       "3092   0.264364 -0.069353 -0.137667          0          0          0   \n",
       "8008  -0.459890 -0.069353 -0.137667          0          0          0   \n",
       "...         ...       ...       ...        ...        ...        ...   \n",
       "43723 -0.424097 -0.069353 -0.137667          0          0          0   \n",
       "32511 -0.272128 -0.069353 -0.137667          0          0          1   \n",
       "5192  -0.021778 -0.069353 -0.137667          0          0          0   \n",
       "12172 -0.406101 -0.069353 -0.137667          1          0          0   \n",
       "33003 -0.459890 -0.069353 -0.137667          0          0          1   \n",
       "\n",
       "       year_2014  cbwd_NW  cbwd_SE  cbwd_cv  \n",
       "11652          0        1        0        0  \n",
       "16602          0        0        1        0  \n",
       "22761          0        0        0        0  \n",
       "3092           0        1        0        0  \n",
       "8008           0        0        1        0  \n",
       "...          ...      ...      ...      ...  \n",
       "43723          1        0        0        1  \n",
       "32511          0        0        1        0  \n",
       "5192           0        1        0        0  \n",
       "12172          0        0        1        0  \n",
       "33003          0        0        0        0  \n",
       "\n",
       "[35059 rows x 17 columns]"
      ]
     },
     "execution_count": 24,
     "metadata": {},
     "output_type": "execute_result"
    }
   ],
   "source": [
    "X_train"
   ]
  },
  {
   "cell_type": "code",
   "execution_count": 25,
   "id": "551683c4",
   "metadata": {},
   "outputs": [
    {
     "data": {
      "text/plain": [
       "11652   -0.552164\n",
       "16602   -0.897175\n",
       "22761   -0.196024\n",
       "3092    -0.184895\n",
       "8008     1.540159\n",
       "           ...   \n",
       "43723    2.552933\n",
       "32511   -0.685717\n",
       "5192    -0.730234\n",
       "12172   -0.229412\n",
       "33003    0.983690\n",
       "Name: pm2.5, Length: 35059, dtype: float64"
      ]
     },
     "execution_count": 25,
     "metadata": {},
     "output_type": "execute_result"
    }
   ],
   "source": [
    "Y_train"
   ]
  },
  {
   "cell_type": "code",
   "execution_count": 26,
   "id": "b11e366b",
   "metadata": {},
   "outputs": [
    {
     "data": {
      "text/html": [
       "<div>\n",
       "<style scoped>\n",
       "    .dataframe tbody tr th:only-of-type {\n",
       "        vertical-align: middle;\n",
       "    }\n",
       "\n",
       "    .dataframe tbody tr th {\n",
       "        vertical-align: top;\n",
       "    }\n",
       "\n",
       "    .dataframe thead th {\n",
       "        text-align: right;\n",
       "    }\n",
       "</style>\n",
       "<table border=\"1\" class=\"dataframe\">\n",
       "  <thead>\n",
       "    <tr style=\"text-align: right;\">\n",
       "      <th></th>\n",
       "      <th>No</th>\n",
       "      <th>month</th>\n",
       "      <th>day</th>\n",
       "      <th>hour</th>\n",
       "      <th>DEWP</th>\n",
       "      <th>TEMP</th>\n",
       "      <th>PRES</th>\n",
       "      <th>Iws</th>\n",
       "      <th>Is</th>\n",
       "      <th>Ir</th>\n",
       "      <th>year_2011</th>\n",
       "      <th>year_2012</th>\n",
       "      <th>year_2013</th>\n",
       "      <th>year_2014</th>\n",
       "      <th>cbwd_NW</th>\n",
       "      <th>cbwd_SE</th>\n",
       "      <th>cbwd_cv</th>\n",
       "    </tr>\n",
       "  </thead>\n",
       "  <tbody>\n",
       "    <tr>\n",
       "      <th>19638</th>\n",
       "      <td>-0.179711</td>\n",
       "      <td>-1.021753</td>\n",
       "      <td>1.508318</td>\n",
       "      <td>-0.794547</td>\n",
       "      <td>-0.195191</td>\n",
       "      <td>-0.364679</td>\n",
       "      <td>-0.335748</td>\n",
       "      <td>-0.459890</td>\n",
       "      <td>-0.069353</td>\n",
       "      <td>-0.137667</td>\n",
       "      <td>0</td>\n",
       "      <td>1</td>\n",
       "      <td>0</td>\n",
       "      <td>0</td>\n",
       "      <td>0</td>\n",
       "      <td>0</td>\n",
       "      <td>1</td>\n",
       "    </tr>\n",
       "    <tr>\n",
       "      <th>35311</th>\n",
       "      <td>1.059174</td>\n",
       "      <td>-1.601710</td>\n",
       "      <td>-0.537294</td>\n",
       "      <td>-0.650084</td>\n",
       "      <td>-1.511594</td>\n",
       "      <td>-1.922250</td>\n",
       "      <td>1.417172</td>\n",
       "      <td>-0.397303</td>\n",
       "      <td>-0.069353</td>\n",
       "      <td>-0.137667</td>\n",
       "      <td>0</td>\n",
       "      <td>0</td>\n",
       "      <td>0</td>\n",
       "      <td>1</td>\n",
       "      <td>1</td>\n",
       "      <td>0</td>\n",
       "      <td>0</td>\n",
       "    </tr>\n",
       "    <tr>\n",
       "      <th>1113</th>\n",
       "      <td>-1.644033</td>\n",
       "      <td>-1.311731</td>\n",
       "      <td>0.030932</td>\n",
       "      <td>-0.361158</td>\n",
       "      <td>-1.442309</td>\n",
       "      <td>-1.594341</td>\n",
       "      <td>1.611941</td>\n",
       "      <td>-0.218539</td>\n",
       "      <td>-0.069353</td>\n",
       "      <td>-0.137667</td>\n",
       "      <td>0</td>\n",
       "      <td>0</td>\n",
       "      <td>0</td>\n",
       "      <td>0</td>\n",
       "      <td>1</td>\n",
       "      <td>0</td>\n",
       "      <td>0</td>\n",
       "    </tr>\n",
       "    <tr>\n",
       "      <th>17035</th>\n",
       "      <td>-0.385467</td>\n",
       "      <td>1.588052</td>\n",
       "      <td>-0.537294</td>\n",
       "      <td>1.083473</td>\n",
       "      <td>-0.818750</td>\n",
       "      <td>-0.446656</td>\n",
       "      <td>0.930250</td>\n",
       "      <td>0.666483</td>\n",
       "      <td>-0.069353</td>\n",
       "      <td>-0.137667</td>\n",
       "      <td>1</td>\n",
       "      <td>0</td>\n",
       "      <td>0</td>\n",
       "      <td>0</td>\n",
       "      <td>1</td>\n",
       "      <td>0</td>\n",
       "      <td>0</td>\n",
       "    </tr>\n",
       "    <tr>\n",
       "      <th>26039</th>\n",
       "      <td>0.326261</td>\n",
       "      <td>1.588052</td>\n",
       "      <td>0.485512</td>\n",
       "      <td>1.661325</td>\n",
       "      <td>-0.472328</td>\n",
       "      <td>-1.348408</td>\n",
       "      <td>1.125019</td>\n",
       "      <td>-0.459890</td>\n",
       "      <td>6.506427</td>\n",
       "      <td>-0.137667</td>\n",
       "      <td>0</td>\n",
       "      <td>1</td>\n",
       "      <td>0</td>\n",
       "      <td>0</td>\n",
       "      <td>0</td>\n",
       "      <td>1</td>\n",
       "      <td>0</td>\n",
       "    </tr>\n",
       "    <tr>\n",
       "      <th>...</th>\n",
       "      <td>...</td>\n",
       "      <td>...</td>\n",
       "      <td>...</td>\n",
       "      <td>...</td>\n",
       "      <td>...</td>\n",
       "      <td>...</td>\n",
       "      <td>...</td>\n",
       "      <td>...</td>\n",
       "      <td>...</td>\n",
       "      <td>...</td>\n",
       "      <td>...</td>\n",
       "      <td>...</td>\n",
       "      <td>...</td>\n",
       "      <td>...</td>\n",
       "      <td>...</td>\n",
       "      <td>...</td>\n",
       "      <td>...</td>\n",
       "    </tr>\n",
       "    <tr>\n",
       "      <th>35291</th>\n",
       "      <td>1.057593</td>\n",
       "      <td>-1.601710</td>\n",
       "      <td>-0.650939</td>\n",
       "      <td>-0.072232</td>\n",
       "      <td>-1.719447</td>\n",
       "      <td>-1.184453</td>\n",
       "      <td>1.514556</td>\n",
       "      <td>-0.442094</td>\n",
       "      <td>-0.069353</td>\n",
       "      <td>-0.137667</td>\n",
       "      <td>0</td>\n",
       "      <td>0</td>\n",
       "      <td>0</td>\n",
       "      <td>1</td>\n",
       "      <td>0</td>\n",
       "      <td>0</td>\n",
       "      <td>1</td>\n",
       "    </tr>\n",
       "    <tr>\n",
       "      <th>33164</th>\n",
       "      <td>0.889462</td>\n",
       "      <td>1.008096</td>\n",
       "      <td>-0.310003</td>\n",
       "      <td>1.227936</td>\n",
       "      <td>0.566937</td>\n",
       "      <td>0.127186</td>\n",
       "      <td>0.248559</td>\n",
       "      <td>-0.459890</td>\n",
       "      <td>-0.069353</td>\n",
       "      <td>-0.137667</td>\n",
       "      <td>0</td>\n",
       "      <td>0</td>\n",
       "      <td>1</td>\n",
       "      <td>0</td>\n",
       "      <td>0</td>\n",
       "      <td>0</td>\n",
       "      <td>1</td>\n",
       "    </tr>\n",
       "    <tr>\n",
       "      <th>34660</th>\n",
       "      <td>1.007715</td>\n",
       "      <td>1.588052</td>\n",
       "      <td>-0.082713</td>\n",
       "      <td>-1.083473</td>\n",
       "      <td>-1.511594</td>\n",
       "      <td>-1.430386</td>\n",
       "      <td>1.611941</td>\n",
       "      <td>-0.280926</td>\n",
       "      <td>-0.069353</td>\n",
       "      <td>-0.137667</td>\n",
       "      <td>0</td>\n",
       "      <td>0</td>\n",
       "      <td>1</td>\n",
       "      <td>0</td>\n",
       "      <td>1</td>\n",
       "      <td>0</td>\n",
       "      <td>0</td>\n",
       "    </tr>\n",
       "    <tr>\n",
       "      <th>18795</th>\n",
       "      <td>-0.246346</td>\n",
       "      <td>-1.311731</td>\n",
       "      <td>0.826448</td>\n",
       "      <td>-1.227936</td>\n",
       "      <td>-1.165172</td>\n",
       "      <td>-1.594341</td>\n",
       "      <td>1.027634</td>\n",
       "      <td>-0.379306</td>\n",
       "      <td>-0.069353</td>\n",
       "      <td>-0.137667</td>\n",
       "      <td>0</td>\n",
       "      <td>1</td>\n",
       "      <td>0</td>\n",
       "      <td>0</td>\n",
       "      <td>1</td>\n",
       "      <td>0</td>\n",
       "      <td>0</td>\n",
       "    </tr>\n",
       "    <tr>\n",
       "      <th>18895</th>\n",
       "      <td>-0.238442</td>\n",
       "      <td>-1.311731</td>\n",
       "      <td>1.281028</td>\n",
       "      <td>-0.650084</td>\n",
       "      <td>-0.818750</td>\n",
       "      <td>-1.676318</td>\n",
       "      <td>1.027634</td>\n",
       "      <td>-0.442094</td>\n",
       "      <td>-0.069353</td>\n",
       "      <td>-0.137667</td>\n",
       "      <td>0</td>\n",
       "      <td>1</td>\n",
       "      <td>0</td>\n",
       "      <td>0</td>\n",
       "      <td>0</td>\n",
       "      <td>0</td>\n",
       "      <td>0</td>\n",
       "    </tr>\n",
       "  </tbody>\n",
       "</table>\n",
       "<p>8765 rows × 17 columns</p>\n",
       "</div>"
      ],
      "text/plain": [
       "             No     month       day      hour      DEWP      TEMP      PRES  \\\n",
       "19638 -0.179711 -1.021753  1.508318 -0.794547 -0.195191 -0.364679 -0.335748   \n",
       "35311  1.059174 -1.601710 -0.537294 -0.650084 -1.511594 -1.922250  1.417172   \n",
       "1113  -1.644033 -1.311731  0.030932 -0.361158 -1.442309 -1.594341  1.611941   \n",
       "17035 -0.385467  1.588052 -0.537294  1.083473 -0.818750 -0.446656  0.930250   \n",
       "26039  0.326261  1.588052  0.485512  1.661325 -0.472328 -1.348408  1.125019   \n",
       "...         ...       ...       ...       ...       ...       ...       ...   \n",
       "35291  1.057593 -1.601710 -0.650939 -0.072232 -1.719447 -1.184453  1.514556   \n",
       "33164  0.889462  1.008096 -0.310003  1.227936  0.566937  0.127186  0.248559   \n",
       "34660  1.007715  1.588052 -0.082713 -1.083473 -1.511594 -1.430386  1.611941   \n",
       "18795 -0.246346 -1.311731  0.826448 -1.227936 -1.165172 -1.594341  1.027634   \n",
       "18895 -0.238442 -1.311731  1.281028 -0.650084 -0.818750 -1.676318  1.027634   \n",
       "\n",
       "            Iws        Is        Ir  year_2011  year_2012  year_2013  \\\n",
       "19638 -0.459890 -0.069353 -0.137667          0          1          0   \n",
       "35311 -0.397303 -0.069353 -0.137667          0          0          0   \n",
       "1113  -0.218539 -0.069353 -0.137667          0          0          0   \n",
       "17035  0.666483 -0.069353 -0.137667          1          0          0   \n",
       "26039 -0.459890  6.506427 -0.137667          0          1          0   \n",
       "...         ...       ...       ...        ...        ...        ...   \n",
       "35291 -0.442094 -0.069353 -0.137667          0          0          0   \n",
       "33164 -0.459890 -0.069353 -0.137667          0          0          1   \n",
       "34660 -0.280926 -0.069353 -0.137667          0          0          1   \n",
       "18795 -0.379306 -0.069353 -0.137667          0          1          0   \n",
       "18895 -0.442094 -0.069353 -0.137667          0          1          0   \n",
       "\n",
       "       year_2014  cbwd_NW  cbwd_SE  cbwd_cv  \n",
       "19638          0        0        0        1  \n",
       "35311          1        1        0        0  \n",
       "1113           0        1        0        0  \n",
       "17035          0        1        0        0  \n",
       "26039          0        0        1        0  \n",
       "...          ...      ...      ...      ...  \n",
       "35291          1        0        0        1  \n",
       "33164          0        0        0        1  \n",
       "34660          0        1        0        0  \n",
       "18795          0        1        0        0  \n",
       "18895          0        0        0        0  \n",
       "\n",
       "[8765 rows x 17 columns]"
      ]
     },
     "execution_count": 26,
     "metadata": {},
     "output_type": "execute_result"
    }
   ],
   "source": [
    "X_test"
   ]
  },
  {
   "cell_type": "code",
   "execution_count": 27,
   "id": "b6d6c614",
   "metadata": {},
   "outputs": [
    {
     "data": {
      "text/plain": [
       "19638   -0.207154\n",
       "35311    0.404962\n",
       "1113    -0.808140\n",
       "17035   -0.574423\n",
       "26039    2.397121\n",
       "           ...   \n",
       "35291   -0.418612\n",
       "33164   -0.440870\n",
       "34660   -0.630070\n",
       "18795   -0.919434\n",
       "18895    0.816749\n",
       "Name: pm2.5, Length: 8765, dtype: float64"
      ]
     },
     "execution_count": 27,
     "metadata": {},
     "output_type": "execute_result"
    }
   ],
   "source": [
    "Y_test"
   ]
  },
  {
   "cell_type": "code",
   "execution_count": 28,
   "id": "ef48ad52",
   "metadata": {},
   "outputs": [
    {
     "name": "stdout",
     "output_type": "stream",
     "text": [
      "(35059, 17)\n"
     ]
    }
   ],
   "source": [
    "print(X_train.shape)"
   ]
  },
  {
   "cell_type": "code",
   "execution_count": 29,
   "id": "2e3fa051",
   "metadata": {},
   "outputs": [
    {
     "name": "stdout",
     "output_type": "stream",
     "text": [
      "(8765, 17)\n"
     ]
    }
   ],
   "source": [
    "print(X_test.shape)"
   ]
  },
  {
   "cell_type": "markdown",
   "id": "be3b7d45",
   "metadata": {},
   "source": [
    "# Ridge Regressor"
   ]
  },
  {
   "cell_type": "code",
   "execution_count": 30,
   "id": "3248a761",
   "metadata": {},
   "outputs": [],
   "source": [
    "RR = Ridge(alpha=0.1)\n",
    "RR.fit(X_train,Y_train)\n",
    "predicted_train_RR=(RR.predict(X_train))\n",
    "predicted_test_RR=(RR.predict(X_test))"
   ]
  },
  {
   "cell_type": "markdown",
   "id": "76616a58",
   "metadata": {},
   "source": [
    "# Random forest regressor"
   ]
  },
  {
   "cell_type": "code",
   "execution_count": 31,
   "id": "8a09000a",
   "metadata": {},
   "outputs": [],
   "source": [
    "regressor=RandomForestRegressor(random_state=0,\n",
    "                                n_estimators=100,\n",
    "                                max_depth=5,\n",
    "                                min_samples_split=4,\n",
    "                                bootstrap=True)\n",
    "regressor.fit(X_train,Y_train)\n",
    "predicted_train_regressor=(regressor.predict(X_train))\n",
    "predicted_test_regressor=(regressor.predict(X_test))"
   ]
  },
  {
   "cell_type": "markdown",
   "id": "1017f7e6",
   "metadata": {},
   "source": [
    "# Model Evaluation "
   ]
  },
  {
   "cell_type": "markdown",
   "id": "23ed441a",
   "metadata": {},
   "source": [
    "# Ridge Regressor"
   ]
  },
  {
   "cell_type": "code",
   "execution_count": 32,
   "id": "513ecdd9",
   "metadata": {},
   "outputs": [
    {
     "name": "stdout",
     "output_type": "stream",
     "text": [
      " Training DataSet \n",
      " Mean absolute error :     0.6174459174213975\n",
      " Mean squared error  :     0.7308507048331776\n",
      " Root mean squared error:  0.8548980669256292\n"
     ]
    }
   ],
   "source": [
    "from sklearn.metrics import mean_absolute_error\n",
    "from sklearn.metrics import mean_squared_error\n",
    "print(\" Training DataSet \")\n",
    "print(\" Mean absolute error :    \",mean_absolute_error(Y_train,predicted_train_RR))\n",
    "print(\" Mean squared error  :    \",mean_squared_error(Y_train,predicted_train_RR))\n",
    "print(\" Root mean squared error: \",np.sqrt(mean_squared_error(Y_train,predicted_train_RR)))"
   ]
  },
  {
   "cell_type": "code",
   "execution_count": 33,
   "id": "952973a4",
   "metadata": {},
   "outputs": [
    {
     "name": "stdout",
     "output_type": "stream",
     "text": [
      " Testing DataSet \n",
      " Mean absolute error :     0.6198081291228066\n",
      " Mean squared error :      0.7438708465182061\n",
      " Root mean squared error:  0.8624794759982444\n"
     ]
    }
   ],
   "source": [
    "print(\" Testing DataSet \")\n",
    "print(\" Mean absolute error :    \",mean_absolute_error(Y_test,predicted_test_RR))\n",
    "print(\" Mean squared error :     \",mean_squared_error(Y_test,predicted_test_RR))\n",
    "print(\" Root mean squared error: \",np.sqrt(mean_squared_error(Y_test,predicted_test_RR)))"
   ]
  },
  {
   "cell_type": "markdown",
   "id": "f922b690",
   "metadata": {},
   "source": [
    "# Random forest Regressor"
   ]
  },
  {
   "cell_type": "code",
   "execution_count": 34,
   "id": "a1459b9c",
   "metadata": {},
   "outputs": [
    {
     "name": "stdout",
     "output_type": "stream",
     "text": [
      " Training DataSet \n",
      " Mean absolute error :     0.5621864391209094\n",
      " Mean squared error :      0.62153945108091\n",
      " Root mean squared error:  0.7883777337551524\n"
     ]
    }
   ],
   "source": [
    "print(\" Training DataSet \")\n",
    "print(\" Mean absolute error :    \",mean_absolute_error(Y_train,predicted_train_regressor))\n",
    "print(\" Mean squared error :     \",mean_squared_error(Y_train,predicted_train_regressor))\n",
    "print(\" Root mean squared error: \",np.sqrt(mean_squared_error(Y_train,predicted_train_regressor)))"
   ]
  },
  {
   "cell_type": "code",
   "execution_count": 35,
   "id": "05d80368",
   "metadata": {},
   "outputs": [
    {
     "name": "stdout",
     "output_type": "stream",
     "text": [
      " Testing DataSet \n",
      " Mean absolute error :     0.5641456146992255\n",
      " Mean squared error :      0.6308924617785272\n",
      " Root mean squared error:  0.7942873924333227\n"
     ]
    }
   ],
   "source": [
    "print(\" Testing DataSet \")\n",
    "print(\" Mean absolute error :    \",mean_absolute_error(Y_test,predicted_test_regressor))\n",
    "print(\" Mean squared error :     \",mean_squared_error(Y_test,predicted_test_regressor))\n",
    "print(\" Root mean squared error: \",np.sqrt(mean_squared_error(Y_test,predicted_test_regressor)))"
   ]
  },
  {
   "cell_type": "markdown",
   "id": "bfd65e1b",
   "metadata": {},
   "source": [
    "# Overfitting and Cross Validation"
   ]
  },
  {
   "cell_type": "code",
   "execution_count": 44,
   "id": "335dca4d",
   "metadata": {},
   "outputs": [
    {
     "name": "stdout",
     "output_type": "stream",
     "text": [
      " Accuracy on training data set\n",
      " Accuracy on Ridge Regressor training data set :          0.2661162648092711\n",
      " Accuracy on Random Forest Regressor training data set :  0.3758811602545139\n"
     ]
    }
   ],
   "source": [
    "print(\" Accuracy on training data set\")\n",
    "print(\" Accuracy on Ridge Regressor training data set :         \",RR.score(X_train,Y_train))\n",
    "print(\" Accuracy on Random Forest Regressor training data set : \",regressor.score(X_train,Y_train))\n",
    "acc_rr_train  = RR.score(X_train,Y_train)\n",
    "acc_rfr_train =regressor.score(X_train,Y_train)"
   ]
  },
  {
   "cell_type": "code",
   "execution_count": 45,
   "id": "7254ece3",
   "metadata": {},
   "outputs": [
    {
     "name": "stdout",
     "output_type": "stream",
     "text": [
      " Accuracy on test data set\n",
      " Accuracy on Ridge Regressor test data set :          0.2681500286557854\n",
      " Accuracy on Random Forest Regressor test data set :  0.37930269449994414\n"
     ]
    }
   ],
   "source": [
    "print(\" Accuracy on test data set\")\n",
    "print(\" Accuracy on Ridge Regressor test data set :         \",RR.score(X_test,Y_test))\n",
    "print(\" Accuracy on Random Forest Regressor test data set : \",regressor.score(X_test,Y_test))\n",
    "acc_rr_test=RR.score(X_test,Y_test)\n",
    "acc_rfr_test=regressor.score(X_test,Y_test)"
   ]
  },
  {
   "cell_type": "code",
   "execution_count": 50,
   "id": "bf05ec1e",
   "metadata": {},
   "outputs": [
    {
     "name": "stdout",
     "output_type": "stream",
     "text": [
      "RIDGE REGRESSOR MODEL IS OVERFITTED\n"
     ]
    }
   ],
   "source": [
    "if acc_rr_train > acc_rr_test:\n",
    "    print('RIDGE REGRESSOR MODEL IS NOT OVERFITTED!')\n",
    "else:\n",
    "    print( 'RIDGE REGRESSOR MODEL IS OVERFITTED')"
   ]
  },
  {
   "cell_type": "code",
   "execution_count": null,
   "id": "9731caef",
   "metadata": {},
   "outputs": [],
   "source": [
    "if acc_rfr_train > acc_rfr_test:\n",
    "    print('RIDGE REGRESSOR MODEL IS NOT OVERFITTED!')\n",
    "else:\n",
    "    print( 'RIDGE REGRESSOR MODEL IS OVERFITTED')"
   ]
  }
 ],
 "metadata": {
  "kernelspec": {
   "display_name": "Python 3 (ipykernel)",
   "language": "python",
   "name": "python3"
  },
  "language_info": {
   "codemirror_mode": {
    "name": "ipython",
    "version": 3
   },
   "file_extension": ".py",
   "mimetype": "text/x-python",
   "name": "python",
   "nbconvert_exporter": "python",
   "pygments_lexer": "ipython3",
   "version": "3.9.12"
  }
 },
 "nbformat": 4,
 "nbformat_minor": 5
}
